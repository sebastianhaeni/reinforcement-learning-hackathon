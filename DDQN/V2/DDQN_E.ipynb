{
 "nbformat": 4,
 "nbformat_minor": 2,
 "metadata": {
  "language_info": {
   "name": "python",
   "codemirror_mode": {
    "name": "ipython",
    "version": 3
   }
  },
  "orig_nbformat": 2,
  "file_extension": ".py",
  "mimetype": "text/x-python",
  "name": "python",
  "npconvert_exporter": "python",
  "pygments_lexer": "ipython3",
  "version": 3
 },
 "cells": [
  {
   "source": [
    "open('/V1/rewards.log') as f\n",
    "f = f.readlines()\n"
   ],
   "cell_type": "code",
   "outputs": [
    {
     "output_type": "error",
     "evalue": "Error: Kernel not created with the name python37564bitrlhackathonconda3866c2a2ebea4e1a8f0a5102c053e1ad, display_name Python 3.7.5 64-bit ('rl-hackathon': conda). Output is Installed kernelspec python37564bitrlhackathonconda3866c2a2ebea4e1a8f0a5102c053e1ad in /Users/gregory-sean/Library/Jupyter/kernels/python37564bitrlhackathonconda3866c2a2ebea4e1a8f0a5102c053e1ad\n"
    }
   ],
   "metadata": {},
   "execution_count": null
  },
  {
   "cell_type": "code",
   "execution_count": null,
   "metadata": {},
   "outputs": [],
   "source": []
  }
 ]
}